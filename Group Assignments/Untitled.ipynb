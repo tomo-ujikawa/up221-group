{
 "cells": [
  {
   "cell_type": "markdown",
   "id": "470186ee-974f-4bac-90a6-7a0de10786c6",
   "metadata": {},
   "source": [
    "#### Team"
   ]
  },
  {
   "cell_type": "markdown",
   "id": "8b5d162c-c554-4f49-bcb6-0ae63822b3af",
   "metadata": {},
   "source": [
    "### Chart 1"
   ]
  },
  {
   "cell_type": "code",
   "execution_count": null,
   "id": "6ca32f1d-b3ce-4e62-8ff4-4dc5202cd5eb",
   "metadata": {},
   "outputs": [],
   "source": []
  }
 ],
 "metadata": {
  "kernelspec": {
   "display_name": "Python 3 (ipykernel)",
   "language": "python",
   "name": "python3"
  },
  "language_info": {
   "codemirror_mode": {
    "name": "ipython",
    "version": 3
   },
   "file_extension": ".py",
   "mimetype": "text/x-python",
   "name": "python",
   "nbconvert_exporter": "python",
   "pygments_lexer": "ipython3",
   "version": "3.11.7"
  }
 },
 "nbformat": 4,
 "nbformat_minor": 5
}
